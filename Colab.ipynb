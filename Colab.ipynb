{
  "nbformat": 4,
  "nbformat_minor": 0,
  "metadata": {
    "colab": {
      "provenance": [],
      "authorship_tag": "ABX9TyM7W9GpwUBwN2PfJ+WmtExZ",
      "include_colab_link": true
    },
    "kernelspec": {
      "name": "python3",
      "display_name": "Python 3"
    },
    "language_info": {
      "name": "python"
    }
  },
  "cells": [
    {
      "cell_type": "markdown",
      "metadata": {
        "id": "view-in-github",
        "colab_type": "text"
      },
      "source": [
        "<a href=\"https://colab.research.google.com/github/zitotw/bilingual_book_maker/blob/main/bilingual_book_maker_on_Colab2023.ipynb\" target=\"_parent\"><img src=\"https://colab.research.google.com/assets/colab-badge.svg\" alt=\"Open In Colab\"/></a>"
      ]
    },
    {
      "cell_type": "markdown",
      "source": [
        "[bilingual_book_maker on github](https://github.com/yihong0618/bilingual_book_maker.git)"
      ],
      "metadata": {
        "id": "1ePfQoAx4LK8"
      }
    },
    {
      "cell_type": "code",
      "source": [
        "#@title connecting google drive / 連結google drive { vertical-output: true}\n",
        "from google.colab import drive\n",
        "drive.mount('/content/gdrive')\n",
        "\n",
        "import os\n",
        "directory = 'gdrive/My Drive/project'\n",
        "subdirectory = 'gdrive/My Drive/project/bilingual_book_maker'\n",
        "%cd\n",
        "%cd ../content\n",
        "!ls\n",
        "\n",
        "if os.path.exists(directory):\n",
        "    print(\"project folder already exists\")\n",
        "    if os.path.exists(subdirectory):\n",
        "      print(\"bilingual_book_maker folder already exists\")\n",
        "      %cd gdrive/My Drive/project/bilingual_book_maker\n",
        "      !ls\n",
        "    else:\n",
        "      %cd gdrive/My Drive/project/\n",
        "      !git clone https://github.com/yihong0618/bilingual_book_maker.git\n",
        "      %cd bilingual_book_maker\n",
        "      !ls\n",
        "else:\n",
        "    os.makedirs(directory)\n",
        "    print(\"Folder created successfully\")\n",
        "    %cd gdrive/My Drive/project/\n",
        "    !git clone https://github.com/yihong0618/bilingual_book_maker.git\n",
        "    %cd bilingual_book_maker\n",
        "    !ls"
      ],
      "metadata": {
        "colab": {
          "base_uri": "https://localhost:8080/"
        },
        "id": "6lliBhIVSqA0",
        "outputId": "f675e616-1b51-4c85-8e38-e13fc34c5f72"
      },
      "execution_count": 2,
      "outputs": [
        {
          "output_type": "stream",
          "name": "stdout",
          "text": [
            "Mounted at /content/gdrive\n",
            "/root\n",
            "/content\n",
            "gdrive\tsample_data\n",
            "project folder already exists\n",
            "bilingual_book_maker folder already exists\n",
            "/content/gdrive/My Drive/project/bilingual_book_maker\n",
            "bbook_maker.egg-info\t     README-CN.md\n",
            "book_maker\t\t     README.md\n",
            "disclaimer.md\t\t     requirements.txt\n",
            "Dockerfile\t\t     setup.py\n",
            "docs\t\t\t     test_books\n",
            "LICENSE\t\t\t     tests\n",
            "make_book.py\t\t     the_little_prince_bilingual_temp.txt\n",
            "Makefile\t\t     the_little_prince_bilingual.txt\n",
            "mkdocs.yml\t\t     the_little_prince.txt\n",
            "prompt_template_sample.json  typos.toml\n",
            "prompt_template_sample.txt\n"
          ]
        }
      ]
    },
    {
      "cell_type": "code",
      "source": [
        "#@title installing the package / 安裝 { vertical-output: true}\n",
        "!pip install -r requirements.txt"
      ],
      "metadata": {
        "colab": {
          "base_uri": "https://localhost:8080/"
        },
        "id": "_hG5eJ_aS5BI",
        "outputId": "26d5b112-d20d-4f57-f36f-bf02c8ab97e7"
      },
      "execution_count": 3,
      "outputs": [
        {
          "output_type": "stream",
          "name": "stdout",
          "text": [
            "Obtaining file:///content/gdrive/My%20Drive/project/bilingual_book_maker (from -r requirements.txt (line 1))\n",
            "  Preparing metadata (setup.py) ... \u001b[?25l\u001b[?25hdone\n",
            "Collecting mkdocs (from -r requirements.txt (line 2))\n",
            "  Downloading mkdocs-1.5.2-py3-none-any.whl (3.7 MB)\n",
            "\u001b[2K     \u001b[90m━━━━━━━━━━━━━━━━━━━━━━━━━━━━━━━━━━━━━━━━\u001b[0m \u001b[32m3.7/3.7 MB\u001b[0m \u001b[31m13.7 MB/s\u001b[0m eta \u001b[36m0:00:00\u001b[0m\n",
            "\u001b[?25hCollecting mkdocs-material (from -r requirements.txt (line 3))\n",
            "  Downloading mkdocs_material-9.2.8-py3-none-any.whl (8.0 MB)\n",
            "\u001b[2K     \u001b[90m━━━━━━━━━━━━━━━━━━━━━━━━━━━━━━━━━━━━━━━━\u001b[0m \u001b[32m8.0/8.0 MB\u001b[0m \u001b[31m39.7 MB/s\u001b[0m eta \u001b[36m0:00:00\u001b[0m\n",
            "\u001b[?25hCollecting bs4 (from bbook-maker==0.4.0->-r requirements.txt (line 1))\n",
            "  Downloading bs4-0.0.1.tar.gz (1.1 kB)\n",
            "  Preparing metadata (setup.py) ... \u001b[?25l\u001b[?25hdone\n",
            "Collecting openai (from bbook-maker==0.4.0->-r requirements.txt (line 1))\n",
            "  Downloading openai-0.28.0-py3-none-any.whl (76 kB)\n",
            "\u001b[2K     \u001b[90m━━━━━━━━━━━━━━━━━━━━━━━━━━━━━━━━━━━━━━━━\u001b[0m \u001b[32m76.5/76.5 kB\u001b[0m \u001b[31m9.1 MB/s\u001b[0m eta \u001b[36m0:00:00\u001b[0m\n",
            "\u001b[?25hCollecting litellm (from bbook-maker==0.4.0->-r requirements.txt (line 1))\n",
            "  Downloading litellm-0.1.555-py3-none-any.whl (100 kB)\n",
            "\u001b[2K     \u001b[90m━━━━━━━━━━━━━━━━━━━━━━━━━━━━━━━━━━━━━━\u001b[0m \u001b[32m100.4/100.4 kB\u001b[0m \u001b[31m10.2 MB/s\u001b[0m eta \u001b[36m0:00:00\u001b[0m\n",
            "\u001b[?25hRequirement already satisfied: requests in /usr/local/lib/python3.10/dist-packages (from bbook-maker==0.4.0->-r requirements.txt (line 1)) (2.31.0)\n",
            "Collecting ebooklib (from bbook-maker==0.4.0->-r requirements.txt (line 1))\n",
            "  Downloading EbookLib-0.18.tar.gz (115 kB)\n",
            "\u001b[2K     \u001b[90m━━━━━━━━━━━━━━━━━━━━━━━━━━━━━━━━━━━━━━\u001b[0m \u001b[32m115.5/115.5 kB\u001b[0m \u001b[31m13.8 MB/s\u001b[0m eta \u001b[36m0:00:00\u001b[0m\n",
            "\u001b[?25h  Preparing metadata (setup.py) ... \u001b[?25l\u001b[?25hdone\n",
            "Requirement already satisfied: rich in /usr/local/lib/python3.10/dist-packages (from bbook-maker==0.4.0->-r requirements.txt (line 1)) (13.5.2)\n",
            "Requirement already satisfied: tqdm in /usr/local/lib/python3.10/dist-packages (from bbook-maker==0.4.0->-r requirements.txt (line 1)) (4.66.1)\n",
            "Collecting tiktoken (from bbook-maker==0.4.0->-r requirements.txt (line 1))\n",
            "  Downloading tiktoken-0.4.0-cp310-cp310-manylinux_2_17_x86_64.manylinux2014_x86_64.whl (1.7 MB)\n",
            "\u001b[2K     \u001b[90m━━━━━━━━━━━━━━━━━━━━━━━━━━━━━━━━━━━━━━━━\u001b[0m \u001b[32m1.7/1.7 MB\u001b[0m \u001b[31m52.5 MB/s\u001b[0m eta \u001b[36m0:00:00\u001b[0m\n",
            "\u001b[?25hCollecting PyDeepLX (from bbook-maker==0.4.0->-r requirements.txt (line 1))\n",
            "  Downloading PyDeepLX-1.0.4-py3-none-any.whl (4.9 kB)\n",
            "Requirement already satisfied: click>=7.0 in /usr/local/lib/python3.10/dist-packages (from mkdocs->-r requirements.txt (line 2)) (8.1.7)\n",
            "Collecting ghp-import>=1.0 (from mkdocs->-r requirements.txt (line 2))\n",
            "  Downloading ghp_import-2.1.0-py3-none-any.whl (11 kB)\n",
            "Requirement already satisfied: jinja2>=2.11.1 in /usr/local/lib/python3.10/dist-packages (from mkdocs->-r requirements.txt (line 2)) (3.1.2)\n",
            "Requirement already satisfied: markdown>=3.2.1 in /usr/local/lib/python3.10/dist-packages (from mkdocs->-r requirements.txt (line 2)) (3.4.4)\n",
            "Requirement already satisfied: markupsafe>=2.0.1 in /usr/local/lib/python3.10/dist-packages (from mkdocs->-r requirements.txt (line 2)) (2.1.3)\n",
            "Collecting mergedeep>=1.3.4 (from mkdocs->-r requirements.txt (line 2))\n",
            "  Downloading mergedeep-1.3.4-py3-none-any.whl (6.4 kB)\n",
            "Requirement already satisfied: packaging>=20.5 in /usr/local/lib/python3.10/dist-packages (from mkdocs->-r requirements.txt (line 2)) (23.1)\n",
            "Collecting pathspec>=0.11.1 (from mkdocs->-r requirements.txt (line 2))\n",
            "  Downloading pathspec-0.11.2-py3-none-any.whl (29 kB)\n",
            "Requirement already satisfied: platformdirs>=2.2.0 in /usr/local/lib/python3.10/dist-packages (from mkdocs->-r requirements.txt (line 2)) (3.10.0)\n",
            "Collecting pyyaml-env-tag>=0.1 (from mkdocs->-r requirements.txt (line 2))\n",
            "  Downloading pyyaml_env_tag-0.1-py3-none-any.whl (3.9 kB)\n",
            "Requirement already satisfied: pyyaml>=5.1 in /usr/local/lib/python3.10/dist-packages (from mkdocs->-r requirements.txt (line 2)) (6.0.1)\n",
            "Collecting watchdog>=2.0 (from mkdocs->-r requirements.txt (line 2))\n",
            "  Downloading watchdog-3.0.0-py3-none-manylinux2014_x86_64.whl (82 kB)\n",
            "\u001b[2K     \u001b[90m━━━━━━━━━━━━━━━━━━━━━━━━━━━━━━━━━━━━━━━━\u001b[0m \u001b[32m82.1/82.1 kB\u001b[0m \u001b[31m7.0 MB/s\u001b[0m eta \u001b[36m0:00:00\u001b[0m\n",
            "\u001b[?25hRequirement already satisfied: babel~=2.12 in /usr/local/lib/python3.10/dist-packages (from mkdocs-material->-r requirements.txt (line 3)) (2.12.1)\n",
            "Collecting colorama~=0.4 (from mkdocs-material->-r requirements.txt (line 3))\n",
            "  Downloading colorama-0.4.6-py2.py3-none-any.whl (25 kB)\n",
            "Collecting mkdocs-material-extensions~=1.1 (from mkdocs-material->-r requirements.txt (line 3))\n",
            "  Downloading mkdocs_material_extensions-1.1.1-py3-none-any.whl (7.9 kB)\n",
            "Collecting paginate~=0.5 (from mkdocs-material->-r requirements.txt (line 3))\n",
            "  Downloading paginate-0.5.6.tar.gz (12 kB)\n",
            "  Preparing metadata (setup.py) ... \u001b[?25l\u001b[?25hdone\n",
            "Requirement already satisfied: pygments~=2.16 in /usr/local/lib/python3.10/dist-packages (from mkdocs-material->-r requirements.txt (line 3)) (2.16.1)\n",
            "Collecting pymdown-extensions~=10.3 (from mkdocs-material->-r requirements.txt (line 3))\n",
            "  Downloading pymdown_extensions-10.3-py3-none-any.whl (241 kB)\n",
            "\u001b[2K     \u001b[90m━━━━━━━━━━━━━━━━━━━━━━━━━━━━━━━━━━━━━━\u001b[0m \u001b[32m241.0/241.0 kB\u001b[0m \u001b[31m22.0 MB/s\u001b[0m eta \u001b[36m0:00:00\u001b[0m\n",
            "\u001b[?25hCollecting regex~=2023.8 (from mkdocs-material->-r requirements.txt (line 3))\n",
            "  Downloading regex-2023.8.8-cp310-cp310-manylinux_2_17_x86_64.manylinux2014_x86_64.whl (771 kB)\n",
            "\u001b[2K     \u001b[90m━━━━━━━━━━━━━━━━━━━━━━━━━━━━━━━━━━━━━━\u001b[0m \u001b[32m771.9/771.9 kB\u001b[0m \u001b[31m41.0 MB/s\u001b[0m eta \u001b[36m0:00:00\u001b[0m\n",
            "\u001b[?25hRequirement already satisfied: python-dateutil>=2.8.1 in /usr/local/lib/python3.10/dist-packages (from ghp-import>=1.0->mkdocs->-r requirements.txt (line 2)) (2.8.2)\n",
            "Requirement already satisfied: charset-normalizer<4,>=2 in /usr/local/lib/python3.10/dist-packages (from requests->bbook-maker==0.4.0->-r requirements.txt (line 1)) (3.2.0)\n",
            "Requirement already satisfied: idna<4,>=2.5 in /usr/local/lib/python3.10/dist-packages (from requests->bbook-maker==0.4.0->-r requirements.txt (line 1)) (3.4)\n",
            "Requirement already satisfied: urllib3<3,>=1.21.1 in /usr/local/lib/python3.10/dist-packages (from requests->bbook-maker==0.4.0->-r requirements.txt (line 1)) (2.0.4)\n",
            "Requirement already satisfied: certifi>=2017.4.17 in /usr/local/lib/python3.10/dist-packages (from requests->bbook-maker==0.4.0->-r requirements.txt (line 1)) (2023.7.22)\n",
            "Requirement already satisfied: beautifulsoup4 in /usr/local/lib/python3.10/dist-packages (from bs4->bbook-maker==0.4.0->-r requirements.txt (line 1)) (4.11.2)\n",
            "Requirement already satisfied: lxml in /usr/local/lib/python3.10/dist-packages (from ebooklib->bbook-maker==0.4.0->-r requirements.txt (line 1)) (4.9.3)\n",
            "Requirement already satisfied: six in /usr/local/lib/python3.10/dist-packages (from ebooklib->bbook-maker==0.4.0->-r requirements.txt (line 1)) (1.16.0)\n",
            "Requirement already satisfied: importlib-metadata<7.0.0,>=6.8.0 in /usr/local/lib/python3.10/dist-packages (from litellm->bbook-maker==0.4.0->-r requirements.txt (line 1)) (6.8.0)\n",
            "Collecting openai (from bbook-maker==0.4.0->-r requirements.txt (line 1))\n",
            "  Downloading openai-0.27.10-py3-none-any.whl (76 kB)\n",
            "\u001b[2K     \u001b[90m━━━━━━━━━━━━━━━━━━━━━━━━━━━━━━━━━━━━━━━━\u001b[0m \u001b[32m76.5/76.5 kB\u001b[0m \u001b[31m7.5 MB/s\u001b[0m eta \u001b[36m0:00:00\u001b[0m\n",
            "\u001b[?25hCollecting python-dotenv>=0.2.0 (from litellm->bbook-maker==0.4.0->-r requirements.txt (line 1))\n",
            "  Downloading python_dotenv-1.0.0-py3-none-any.whl (19 kB)\n",
            "Requirement already satisfied: aiohttp in /usr/local/lib/python3.10/dist-packages (from openai->bbook-maker==0.4.0->-r requirements.txt (line 1)) (3.8.5)\n",
            "Collecting httpx[brotli,socks] (from PyDeepLX->bbook-maker==0.4.0->-r requirements.txt (line 1))\n",
            "  Downloading httpx-0.24.1-py3-none-any.whl (75 kB)\n",
            "\u001b[2K     \u001b[90m━━━━━━━━━━━━━━━━━━━━━━━━━━━━━━━━━━━━━━━━\u001b[0m \u001b[32m75.4/75.4 kB\u001b[0m \u001b[31m8.2 MB/s\u001b[0m eta \u001b[36m0:00:00\u001b[0m\n",
            "\u001b[?25hCollecting langdetect (from PyDeepLX->bbook-maker==0.4.0->-r requirements.txt (line 1))\n",
            "  Downloading langdetect-1.0.9.tar.gz (981 kB)\n",
            "\u001b[2K     \u001b[90m━━━━━━━━━━━━━━━━━━━━━━━━━━━━━━━━━━━━━━\u001b[0m \u001b[32m981.5/981.5 kB\u001b[0m \u001b[31m53.1 MB/s\u001b[0m eta \u001b[36m0:00:00\u001b[0m\n",
            "\u001b[?25h  Preparing metadata (setup.py) ... \u001b[?25l\u001b[?25hdone\n",
            "Requirement already satisfied: markdown-it-py>=2.2.0 in /usr/local/lib/python3.10/dist-packages (from rich->bbook-maker==0.4.0->-r requirements.txt (line 1)) (3.0.0)\n",
            "Requirement already satisfied: zipp>=0.5 in /usr/local/lib/python3.10/dist-packages (from importlib-metadata<7.0.0,>=6.8.0->litellm->bbook-maker==0.4.0->-r requirements.txt (line 1)) (3.16.2)\n",
            "Requirement already satisfied: mdurl~=0.1 in /usr/local/lib/python3.10/dist-packages (from markdown-it-py>=2.2.0->rich->bbook-maker==0.4.0->-r requirements.txt (line 1)) (0.1.2)\n",
            "Requirement already satisfied: attrs>=17.3.0 in /usr/local/lib/python3.10/dist-packages (from aiohttp->openai->bbook-maker==0.4.0->-r requirements.txt (line 1)) (23.1.0)\n",
            "Requirement already satisfied: multidict<7.0,>=4.5 in /usr/local/lib/python3.10/dist-packages (from aiohttp->openai->bbook-maker==0.4.0->-r requirements.txt (line 1)) (6.0.4)\n",
            "Requirement already satisfied: async-timeout<5.0,>=4.0.0a3 in /usr/local/lib/python3.10/dist-packages (from aiohttp->openai->bbook-maker==0.4.0->-r requirements.txt (line 1)) (4.0.3)\n",
            "Requirement already satisfied: yarl<2.0,>=1.0 in /usr/local/lib/python3.10/dist-packages (from aiohttp->openai->bbook-maker==0.4.0->-r requirements.txt (line 1)) (1.9.2)\n",
            "Requirement already satisfied: frozenlist>=1.1.1 in /usr/local/lib/python3.10/dist-packages (from aiohttp->openai->bbook-maker==0.4.0->-r requirements.txt (line 1)) (1.4.0)\n",
            "Requirement already satisfied: aiosignal>=1.1.2 in /usr/local/lib/python3.10/dist-packages (from aiohttp->openai->bbook-maker==0.4.0->-r requirements.txt (line 1)) (1.3.1)\n",
            "Requirement already satisfied: soupsieve>1.2 in /usr/local/lib/python3.10/dist-packages (from beautifulsoup4->bs4->bbook-maker==0.4.0->-r requirements.txt (line 1)) (2.4.1)\n",
            "Collecting httpcore<0.18.0,>=0.15.0 (from httpx[brotli,socks]->PyDeepLX->bbook-maker==0.4.0->-r requirements.txt (line 1))\n",
            "  Downloading httpcore-0.17.3-py3-none-any.whl (74 kB)\n",
            "\u001b[2K     \u001b[90m━━━━━━━━━━━━━━━━━━━━━━━━━━━━━━━━━━━━━━━━\u001b[0m \u001b[32m74.5/74.5 kB\u001b[0m \u001b[31m8.4 MB/s\u001b[0m eta \u001b[36m0:00:00\u001b[0m\n",
            "\u001b[?25hRequirement already satisfied: sniffio in /usr/local/lib/python3.10/dist-packages (from httpx[brotli,socks]->PyDeepLX->bbook-maker==0.4.0->-r requirements.txt (line 1)) (1.3.0)\n",
            "Collecting socksio==1.* (from httpx[brotli,socks]->PyDeepLX->bbook-maker==0.4.0->-r requirements.txt (line 1))\n",
            "  Downloading socksio-1.0.0-py3-none-any.whl (12 kB)\n",
            "Collecting brotli (from httpx[brotli,socks]->PyDeepLX->bbook-maker==0.4.0->-r requirements.txt (line 1))\n",
            "  Downloading Brotli-1.0.9-cp310-cp310-manylinux_2_5_x86_64.manylinux1_x86_64.manylinux_2_12_x86_64.manylinux2010_x86_64.whl (2.7 MB)\n",
            "\u001b[2K     \u001b[90m━━━━━━━━━━━━━━━━━━━━━━━━━━━━━━━━━━━━━━━━\u001b[0m \u001b[32m2.7/2.7 MB\u001b[0m \u001b[31m67.4 MB/s\u001b[0m eta \u001b[36m0:00:00\u001b[0m\n",
            "\u001b[?25hCollecting h11<0.15,>=0.13 (from httpcore<0.18.0,>=0.15.0->httpx[brotli,socks]->PyDeepLX->bbook-maker==0.4.0->-r requirements.txt (line 1))\n",
            "  Downloading h11-0.14.0-py3-none-any.whl (58 kB)\n",
            "\u001b[2K     \u001b[90m━━━━━━━━━━━━━━━━━━━━━━━━━━━━━━━━━━━━━━━━\u001b[0m \u001b[32m58.3/58.3 kB\u001b[0m \u001b[31m6.2 MB/s\u001b[0m eta \u001b[36m0:00:00\u001b[0m\n",
            "\u001b[?25hRequirement already satisfied: anyio<5.0,>=3.0 in /usr/local/lib/python3.10/dist-packages (from httpcore<0.18.0,>=0.15.0->httpx[brotli,socks]->PyDeepLX->bbook-maker==0.4.0->-r requirements.txt (line 1)) (3.7.1)\n",
            "Requirement already satisfied: exceptiongroup in /usr/local/lib/python3.10/dist-packages (from anyio<5.0,>=3.0->httpcore<0.18.0,>=0.15.0->httpx[brotli,socks]->PyDeepLX->bbook-maker==0.4.0->-r requirements.txt (line 1)) (1.1.3)\n",
            "Building wheels for collected packages: paginate, bs4, ebooklib, langdetect\n",
            "  Building wheel for paginate (setup.py) ... \u001b[?25l\u001b[?25hdone\n",
            "  Created wheel for paginate: filename=paginate-0.5.6-py3-none-any.whl size=12666 sha256=ce7d59f939e2842fe5d09cae9a9a3130816b0a13562f5b928e79c994c0f3af69\n",
            "  Stored in directory: /root/.cache/pip/wheels/47/d3/18/0b5bebc873f29bea61fedece1e92cbcbef416839dfe5bd0eef\n",
            "  Building wheel for bs4 (setup.py) ... \u001b[?25l\u001b[?25hdone\n",
            "  Created wheel for bs4: filename=bs4-0.0.1-py3-none-any.whl size=1256 sha256=e6b28327ffb38f9641f520a533d2c964cd879ffa5ddd934efdc7d0f6792540e8\n",
            "  Stored in directory: /root/.cache/pip/wheels/25/42/45/b773edc52acb16cd2db4cf1a0b47117e2f69bb4eb300ed0e70\n",
            "  Building wheel for ebooklib (setup.py) ... \u001b[?25l\u001b[?25hdone\n",
            "  Created wheel for ebooklib: filename=EbookLib-0.18-py3-none-any.whl size=38778 sha256=0c35f7bdb38b8ad5e5f00433a0024112aa3f86b7c833402a7a8eba398c3485ca\n",
            "  Stored in directory: /root/.cache/pip/wheels/0f/38/cc/a3728bb72a315d9d8766fb71d362136372066fc25ad838f8fa\n",
            "  Building wheel for langdetect (setup.py) ... \u001b[?25l\u001b[?25hdone\n",
            "  Created wheel for langdetect: filename=langdetect-1.0.9-py3-none-any.whl size=993224 sha256=ae97607b06c8efcdc31d0371ee5cdded17a71c75df1a55e27cc673f143c81460\n",
            "  Stored in directory: /root/.cache/pip/wheels/95/03/7d/59ea870c70ce4e5a370638b5462a7711ab78fba2f655d05106\n",
            "Successfully built paginate bs4 ebooklib langdetect\n",
            "Installing collected packages: paginate, brotli, watchdog, socksio, regex, pyyaml-env-tag, python-dotenv, pymdown-extensions, pathspec, mkdocs-material-extensions, mergedeep, langdetect, h11, ebooklib, colorama, tiktoken, httpcore, ghp-import, bs4, openai, mkdocs, httpx, mkdocs-material, litellm, PyDeepLX, bbook-maker\n",
            "  Attempting uninstall: regex\n",
            "    Found existing installation: regex 2023.6.3\n",
            "    Uninstalling regex-2023.6.3:\n",
            "      Successfully uninstalled regex-2023.6.3\n",
            "  Running setup.py develop for bbook-maker\n",
            "Successfully installed PyDeepLX-1.0.4 bbook-maker-0.4.0 brotli-1.0.9 bs4-0.0.1 colorama-0.4.6 ebooklib-0.18 ghp-import-2.1.0 h11-0.14.0 httpcore-0.17.3 httpx-0.24.1 langdetect-1.0.9 litellm-0.1.555 mergedeep-1.3.4 mkdocs-1.5.2 mkdocs-material-9.2.8 mkdocs-material-extensions-1.1.1 openai-0.27.10 paginate-0.5.6 pathspec-0.11.2 pymdown-extensions-10.3 python-dotenv-1.0.0 pyyaml-env-tag-0.1 regex-2023.8.8 socksio-1.0.0 tiktoken-0.4.0 watchdog-3.0.0\n",
            "/bin/bash: line 1: make_book.py: command not found\n"
          ]
        }
      ]
    },
    {
      "cell_type": "markdown",
      "source": [
        "Please upload the book you would like to translate manually to google drive 請手動上傳你想翻譯的檔案至google drive"
      ],
      "metadata": {
        "id": "Ziib9EuP3Pim"
      }
    },
    {
      "cell_type": "markdown",
      "source": [
        "learn more about the commands on bilingual book maker's [readme](https://github.com/yihong0618/bilingual_book_maker.git) 有更多關於指令的介紹"
      ],
      "metadata": {
        "id": "kKjw_A3i3WSx"
      }
    },
    {
      "cell_type": "code",
      "source": [
        "#@title Translation / 翻譯 { vertical-output: true}\n",
        "#關於make_book.py的指令請見bilingual book maker的readme\n",
        "#https://github.com/yihong0618/bilingual_book_maker.git\n",
        "!python3 make_book.py --book_name the_little_prince.txt --openai_key $'YourAPI' --model deeplfree --prompt prompt_template_sample.json --test"
      ],
      "metadata": {
        "colab": {
          "base_uri": "https://localhost:8080/"
        },
        "outputId": "feba80b2-1177-430c-efb1-b2c823a2af29",
        "id": "TGVmfqdr3pdP"
      },
      "execution_count": null,
      "outputs": [
        {
          "output_type": "stream",
          "name": "stdout",
          "text": [
            "prompt config: {'system': 'You are a professional translator.', 'user': \"Translate the given text to {language}. Be faithful or accurate in translation. Make the translation readable or intelligible. Be elegant or natural in translation. If the text cannot be translated, return the original text as is. Do not translate person's name. Do not add any additional text in the translation. The text to be translated is:\\n{text}\"}\n",
            "The Little Prince\n",
            "\n",
            "I Once when I was six years old I saw a magnificent picture in a book, called \n",
            "\u001b[3;92mTrue\u001b[0m Stories from Nature, about the primeval forest.\n",
            "\n",
            "It was a picture of a boa constrictor in the act of swallowing an animal.\n",
            "\n",
            "Here is a copy of the drawing.\n",
            "\n",
            "Boa\n",
            "\n",
            "\u001b[1;32m小王子\u001b[0m\n",
            "\n",
            "\u001b[1;32m我六岁的时候，曾在一本名为《大自然的真实故事》的书中看到一幅关于原始森林的壮丽画\u001b[0m\n",
            "\u001b[1;32m卷。\u001b[0m\n",
            "\n",
            "\u001b[1;32m那是一张蟒蛇吞食动物的图片。\u001b[0m\n",
            "\n",
            "\u001b[1;32m这是这幅画的副本。\u001b[0m\n",
            "\n",
            "\u001b[1;32m蟒蛇\u001b[0m\n",
            "\n",
            "In the book it said:\n",
            "\n",
            "\"Boa constrictors swallow their prey whole, without chewing it.\n",
            "\n",
            "After that they are not able to move, and they sleep through the six months that\n",
            "they need for digestion.\"\n",
            "\n",
            "I pondered deeply, then, over the adventures of the jungle. And after some work \n",
            "with a colored pencil I succeeded in making my first drawing.\n",
            "\n",
            "My Drawing Number One.\n",
            "\n",
            "\u001b[1;32m书上说\u001b[0m\n",
            "\n",
            "\u001b[1;32m\"蟒蛇不咀嚼猎物，而是整个吞下。\u001b[0m\n",
            "\n",
            "\u001b[1;32m之后它们就不能动了 在消化所需的六个月时间里它们都在睡觉\"\u001b[0m\n",
            "\n",
            "\u001b[1;32m那时，我深深地思索着丛林中的冒险。在用彩色铅笔画了几笔之后，我成功地画出了我的第\u001b[0m\n",
            "\u001b[1;32m一幅画。\u001b[0m\n",
            "\n",
            "\u001b[1;32m我的第一幅画\u001b[0m\n",
            "\n"
          ]
        }
      ]
    }
  ]
}
