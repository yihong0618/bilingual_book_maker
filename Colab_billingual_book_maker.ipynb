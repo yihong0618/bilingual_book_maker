{
  "nbformat": 4,
  "nbformat_minor": 0,
  "metadata": {
    "colab": {
      "provenance": [],
      "authorship_tag": "ABX9TyM7W9GpwUBwN2PfJ+WmtExZ",
      "include_colab_link": true
    },
    "kernelspec": {
      "name": "python3",
      "display_name": "Python 3"
    },
    "language_info": {
      "name": "python"
    }
  },
  "cells": [
    {
      "cell_type": "markdown",
      "metadata": {
        "id": "view-in-github",
        "colab_type": "text"
      },
      "source": [
        "<a href=\"https://colab.research.google.com/github/zitotw/bilingual_book_maker/blob/main/Colab_billingual_book_maker.ipynb\" target=\"_parent\"><img src=\"https://colab.research.google.com/assets/colab-badge.svg\" alt=\"Open In Colab\"/></a>"
      ]
    },
    {
      "cell_type": "markdown",
      "source": [
        "[bilingual_book_maker on github](https://github.com/yihong0618/bilingual_book_maker.git)"
      ],
      "metadata": {
        "id": "1ePfQoAx4LK8"
      }
    },
    {
      "cell_type": "code",
      "source": [
        "#@title connecting google drive / 連結google drive { vertical-output: true}\n",
        "from google.colab import drive\n",
        "drive.mount('/content/gdrive')\n",
        "\n",
        "import os\n",
        "directory = 'gdrive/My Drive/project'\n",
        "subdirectory = 'gdrive/My Drive/project/bilingual_book_maker'\n",
        "%cd\n",
        "%cd ../content\n",
        "!ls\n",
        "\n",
        "if os.path.exists(directory):\n",
        "    print(\"project folder already exists\")\n",
        "    if os.path.exists(subdirectory):\n",
        "      print(\"bilingual_book_maker folder already exists\")\n",
        "      %cd gdrive/My Drive/project/bilingual_book_maker\n",
        "      !ls\n",
        "    else:\n",
        "      %cd gdrive/My Drive/project/\n",
        "      !git clone https://github.com/yihong0618/bilingual_book_maker.git\n",
        "      %cd bilingual_book_maker\n",
        "      !ls\n",
        "else:\n",
        "    os.makedirs(directory)\n",
        "    print(\"Folder created successfully\")\n",
        "    %cd gdrive/My Drive/project/\n",
        "    !git clone https://github.com/yihong0618/bilingual_book_maker.git\n",
        "    %cd bilingual_book_maker\n",
        "    !ls"
      ],
      "metadata": {
        "id": "6lliBhIVSqA0"
      },
      "execution_count": null,
      "outputs": []
    },
    {
      "cell_type": "code",
      "source": [
        "#@title installing the package / 安裝 { vertical-output: true}\n",
        "!pip install -r requirements.txt"
      ],
      "metadata": {
        "id": "_hG5eJ_aS5BI"
      },
      "execution_count": null,
      "outputs": []
    },
    {
      "cell_type": "markdown",
      "source": [
        "Please upload the book you would like to translate manually to google drive 請手動上傳你想翻譯的檔案至google drive"
      ],
      "metadata": {
        "id": "Ziib9EuP3Pim"
      }
    },
    {
      "cell_type": "markdown",
      "source": [
        "learn more about the commands on bilingual book maker's [readme](https://github.com/yihong0618/bilingual_book_maker.git) 有更多關於指令的介紹"
      ],
      "metadata": {
        "id": "kKjw_A3i3WSx"
      }
    },
    {
      "cell_type": "code",
      "source": [
        "#@title Translation / 翻譯 { vertical-output: true}\n",
        "#關於make_book.py的指令請見bilingual book maker的readme\n",
        "#https://github.com/yihong0618/bilingual_book_maker.git\n",
        "!python3 make_book.py --book_name the_little_prince.txt --openai_key $'YourAPI' --model deeplfree --prompt prompt_template_sample.json --test"
      ],
      "metadata": {
        "id": "TGVmfqdr3pdP"
      },
      "execution_count": null,
      "outputs": []
    }
  ]
}